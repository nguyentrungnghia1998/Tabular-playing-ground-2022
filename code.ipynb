{
 "cells": [
  {
   "cell_type": "code",
   "execution_count": 1,
   "metadata": {},
   "outputs": [],
   "source": [
    "import pandas as pd\n",
    "import numpy as np\n",
    "import matplotlib.pyplot as plt\n",
    "import seaborn as sns"
   ]
  },
  {
   "cell_type": "code",
   "execution_count": 8,
   "metadata": {},
   "outputs": [],
   "source": [
    "df_train = pd.read_csv('train.csv')\n",
    "df_test = pd.read_csv('test.csv')"
   ]
  },
  {
   "cell_type": "code",
   "execution_count": 9,
   "metadata": {},
   "outputs": [],
   "source": [
    "df_train_copy = df_train.copy()\n",
    "df_test_copy = df_test.copy()\n",
    "def load_data():\n",
    "    df_train = df_train_copy.copy()\n",
    "    df_test = df_test_copy.copy()\n",
    "    return df_train,df_test"
   ]
  },
  {
   "cell_type": "code",
   "execution_count": 10,
   "metadata": {},
   "outputs": [],
   "source": [
    "df_train.drop(['f_27'],inplace=True,axis=1)"
   ]
  },
  {
   "cell_type": "code",
   "execution_count": 13,
   "metadata": {},
   "outputs": [],
   "source": [
    "df_train,df_test = load_data()"
   ]
  },
  {
   "cell_type": "code",
   "execution_count": 15,
   "metadata": {},
   "outputs": [
    {
     "data": {
      "text/html": [
       "<div>\n",
       "<style scoped>\n",
       "    .dataframe tbody tr th:only-of-type {\n",
       "        vertical-align: middle;\n",
       "    }\n",
       "\n",
       "    .dataframe tbody tr th {\n",
       "        vertical-align: top;\n",
       "    }\n",
       "\n",
       "    .dataframe thead th {\n",
       "        text-align: right;\n",
       "    }\n",
       "</style>\n",
       "<table border=\"1\" class=\"dataframe\">\n",
       "  <thead>\n",
       "    <tr style=\"text-align: right;\">\n",
       "      <th></th>\n",
       "      <th>id</th>\n",
       "      <th>f_00</th>\n",
       "      <th>f_01</th>\n",
       "      <th>f_02</th>\n",
       "      <th>f_03</th>\n",
       "      <th>f_04</th>\n",
       "      <th>f_05</th>\n",
       "      <th>f_06</th>\n",
       "      <th>f_07</th>\n",
       "      <th>f_08</th>\n",
       "      <th>...</th>\n",
       "      <th>f_22</th>\n",
       "      <th>f_23</th>\n",
       "      <th>f_24</th>\n",
       "      <th>f_25</th>\n",
       "      <th>f_26</th>\n",
       "      <th>f_27</th>\n",
       "      <th>f_28</th>\n",
       "      <th>f_29</th>\n",
       "      <th>f_30</th>\n",
       "      <th>target</th>\n",
       "    </tr>\n",
       "  </thead>\n",
       "  <tbody>\n",
       "    <tr>\n",
       "      <th>0</th>\n",
       "      <td>0</td>\n",
       "      <td>-1.373246</td>\n",
       "      <td>0.238887</td>\n",
       "      <td>-0.243376</td>\n",
       "      <td>0.567405</td>\n",
       "      <td>-0.647715</td>\n",
       "      <td>0.839326</td>\n",
       "      <td>0.113133</td>\n",
       "      <td>1</td>\n",
       "      <td>5</td>\n",
       "      <td>...</td>\n",
       "      <td>-2.540739</td>\n",
       "      <td>0.766952</td>\n",
       "      <td>-2.730628</td>\n",
       "      <td>-0.208177</td>\n",
       "      <td>1.363402</td>\n",
       "      <td>ABABDADBAB</td>\n",
       "      <td>67.609153</td>\n",
       "      <td>0</td>\n",
       "      <td>0</td>\n",
       "      <td>0</td>\n",
       "    </tr>\n",
       "    <tr>\n",
       "      <th>1</th>\n",
       "      <td>1</td>\n",
       "      <td>1.697021</td>\n",
       "      <td>-1.710322</td>\n",
       "      <td>-2.230332</td>\n",
       "      <td>-0.545661</td>\n",
       "      <td>1.113173</td>\n",
       "      <td>-1.552175</td>\n",
       "      <td>0.447825</td>\n",
       "      <td>1</td>\n",
       "      <td>3</td>\n",
       "      <td>...</td>\n",
       "      <td>2.278315</td>\n",
       "      <td>-0.633658</td>\n",
       "      <td>-1.217077</td>\n",
       "      <td>-3.782194</td>\n",
       "      <td>-0.058316</td>\n",
       "      <td>ACACCADCEB</td>\n",
       "      <td>377.096415</td>\n",
       "      <td>0</td>\n",
       "      <td>0</td>\n",
       "      <td>1</td>\n",
       "    </tr>\n",
       "    <tr>\n",
       "      <th>2</th>\n",
       "      <td>2</td>\n",
       "      <td>1.681726</td>\n",
       "      <td>0.616746</td>\n",
       "      <td>-1.027689</td>\n",
       "      <td>0.810492</td>\n",
       "      <td>-0.609086</td>\n",
       "      <td>0.113965</td>\n",
       "      <td>-0.708660</td>\n",
       "      <td>1</td>\n",
       "      <td>0</td>\n",
       "      <td>...</td>\n",
       "      <td>-1.385775</td>\n",
       "      <td>-0.520558</td>\n",
       "      <td>-0.009121</td>\n",
       "      <td>2.788536</td>\n",
       "      <td>-3.703488</td>\n",
       "      <td>AAAEABCKAD</td>\n",
       "      <td>-195.599702</td>\n",
       "      <td>0</td>\n",
       "      <td>2</td>\n",
       "      <td>1</td>\n",
       "    </tr>\n",
       "    <tr>\n",
       "      <th>3</th>\n",
       "      <td>3</td>\n",
       "      <td>-0.118172</td>\n",
       "      <td>-0.587835</td>\n",
       "      <td>-0.804638</td>\n",
       "      <td>2.086822</td>\n",
       "      <td>0.371005</td>\n",
       "      <td>-0.128831</td>\n",
       "      <td>-0.282575</td>\n",
       "      <td>3</td>\n",
       "      <td>2</td>\n",
       "      <td>...</td>\n",
       "      <td>0.572594</td>\n",
       "      <td>-1.653213</td>\n",
       "      <td>1.686035</td>\n",
       "      <td>-2.533098</td>\n",
       "      <td>-0.608601</td>\n",
       "      <td>BDBBAACBCB</td>\n",
       "      <td>210.826205</td>\n",
       "      <td>0</td>\n",
       "      <td>0</td>\n",
       "      <td>1</td>\n",
       "    </tr>\n",
       "    <tr>\n",
       "      <th>4</th>\n",
       "      <td>4</td>\n",
       "      <td>1.148481</td>\n",
       "      <td>-0.176567</td>\n",
       "      <td>-0.664871</td>\n",
       "      <td>-1.101343</td>\n",
       "      <td>0.467875</td>\n",
       "      <td>0.500117</td>\n",
       "      <td>0.407515</td>\n",
       "      <td>3</td>\n",
       "      <td>3</td>\n",
       "      <td>...</td>\n",
       "      <td>-3.912929</td>\n",
       "      <td>-1.430366</td>\n",
       "      <td>2.127649</td>\n",
       "      <td>-3.306784</td>\n",
       "      <td>4.371371</td>\n",
       "      <td>BDBCBBCHFE</td>\n",
       "      <td>-217.211798</td>\n",
       "      <td>0</td>\n",
       "      <td>1</td>\n",
       "      <td>1</td>\n",
       "    </tr>\n",
       "    <tr>\n",
       "      <th>...</th>\n",
       "      <td>...</td>\n",
       "      <td>...</td>\n",
       "      <td>...</td>\n",
       "      <td>...</td>\n",
       "      <td>...</td>\n",
       "      <td>...</td>\n",
       "      <td>...</td>\n",
       "      <td>...</td>\n",
       "      <td>...</td>\n",
       "      <td>...</td>\n",
       "      <td>...</td>\n",
       "      <td>...</td>\n",
       "      <td>...</td>\n",
       "      <td>...</td>\n",
       "      <td>...</td>\n",
       "      <td>...</td>\n",
       "      <td>...</td>\n",
       "      <td>...</td>\n",
       "      <td>...</td>\n",
       "      <td>...</td>\n",
       "      <td>...</td>\n",
       "    </tr>\n",
       "    <tr>\n",
       "      <th>899995</th>\n",
       "      <td>899995</td>\n",
       "      <td>1.380145</td>\n",
       "      <td>-0.038884</td>\n",
       "      <td>0.597111</td>\n",
       "      <td>0.854560</td>\n",
       "      <td>0.684301</td>\n",
       "      <td>-1.058618</td>\n",
       "      <td>1.310699</td>\n",
       "      <td>2</td>\n",
       "      <td>1</td>\n",
       "      <td>...</td>\n",
       "      <td>-1.594744</td>\n",
       "      <td>0.522019</td>\n",
       "      <td>0.833047</td>\n",
       "      <td>2.714125</td>\n",
       "      <td>1.290094</td>\n",
       "      <td>BABBCBBBED</td>\n",
       "      <td>455.033851</td>\n",
       "      <td>0</td>\n",
       "      <td>2</td>\n",
       "      <td>1</td>\n",
       "    </tr>\n",
       "    <tr>\n",
       "      <th>899996</th>\n",
       "      <td>899996</td>\n",
       "      <td>-1.369789</td>\n",
       "      <td>0.044841</td>\n",
       "      <td>0.015458</td>\n",
       "      <td>0.376565</td>\n",
       "      <td>-0.380529</td>\n",
       "      <td>-0.830815</td>\n",
       "      <td>-1.798458</td>\n",
       "      <td>4</td>\n",
       "      <td>1</td>\n",
       "      <td>...</td>\n",
       "      <td>2.413899</td>\n",
       "      <td>-0.674942</td>\n",
       "      <td>-0.412111</td>\n",
       "      <td>-0.030436</td>\n",
       "      <td>-3.144047</td>\n",
       "      <td>BBBGBBDQBE</td>\n",
       "      <td>134.703577</td>\n",
       "      <td>0</td>\n",
       "      <td>1</td>\n",
       "      <td>0</td>\n",
       "    </tr>\n",
       "    <tr>\n",
       "      <th>899997</th>\n",
       "      <td>899997</td>\n",
       "      <td>1.386201</td>\n",
       "      <td>-0.961150</td>\n",
       "      <td>0.725994</td>\n",
       "      <td>-0.132844</td>\n",
       "      <td>0.873911</td>\n",
       "      <td>-0.245339</td>\n",
       "      <td>-1.045786</td>\n",
       "      <td>0</td>\n",
       "      <td>0</td>\n",
       "      <td>...</td>\n",
       "      <td>-0.151930</td>\n",
       "      <td>-4.560773</td>\n",
       "      <td>-1.249154</td>\n",
       "      <td>1.793535</td>\n",
       "      <td>2.253696</td>\n",
       "      <td>AEBEDBBHBA</td>\n",
       "      <td>-99.536313</td>\n",
       "      <td>0</td>\n",
       "      <td>1</td>\n",
       "      <td>0</td>\n",
       "    </tr>\n",
       "    <tr>\n",
       "      <th>899998</th>\n",
       "      <td>899998</td>\n",
       "      <td>-1.590572</td>\n",
       "      <td>-0.509938</td>\n",
       "      <td>-1.715397</td>\n",
       "      <td>-0.249988</td>\n",
       "      <td>1.359933</td>\n",
       "      <td>1.650808</td>\n",
       "      <td>-0.058592</td>\n",
       "      <td>0</td>\n",
       "      <td>2</td>\n",
       "      <td>...</td>\n",
       "      <td>2.423670</td>\n",
       "      <td>2.110008</td>\n",
       "      <td>0.561271</td>\n",
       "      <td>-2.149610</td>\n",
       "      <td>1.019982</td>\n",
       "      <td>ADBAAADDAE</td>\n",
       "      <td>47.823039</td>\n",
       "      <td>1</td>\n",
       "      <td>2</td>\n",
       "      <td>0</td>\n",
       "    </tr>\n",
       "    <tr>\n",
       "      <th>899999</th>\n",
       "      <td>899999</td>\n",
       "      <td>-0.636210</td>\n",
       "      <td>-0.425986</td>\n",
       "      <td>-1.826699</td>\n",
       "      <td>-0.598797</td>\n",
       "      <td>1.589577</td>\n",
       "      <td>-0.482298</td>\n",
       "      <td>-0.214093</td>\n",
       "      <td>7</td>\n",
       "      <td>1</td>\n",
       "      <td>...</td>\n",
       "      <td>1.340696</td>\n",
       "      <td>3.762351</td>\n",
       "      <td>1.797137</td>\n",
       "      <td>-0.412837</td>\n",
       "      <td>2.090440</td>\n",
       "      <td>BCAACADSCE</td>\n",
       "      <td>-44.559296</td>\n",
       "      <td>0</td>\n",
       "      <td>2</td>\n",
       "      <td>1</td>\n",
       "    </tr>\n",
       "  </tbody>\n",
       "</table>\n",
       "<p>900000 rows × 33 columns</p>\n",
       "</div>"
      ],
      "text/plain": [
       "            id      f_00      f_01      f_02      f_03      f_04      f_05  \\\n",
       "0            0 -1.373246  0.238887 -0.243376  0.567405 -0.647715  0.839326   \n",
       "1            1  1.697021 -1.710322 -2.230332 -0.545661  1.113173 -1.552175   \n",
       "2            2  1.681726  0.616746 -1.027689  0.810492 -0.609086  0.113965   \n",
       "3            3 -0.118172 -0.587835 -0.804638  2.086822  0.371005 -0.128831   \n",
       "4            4  1.148481 -0.176567 -0.664871 -1.101343  0.467875  0.500117   \n",
       "...        ...       ...       ...       ...       ...       ...       ...   \n",
       "899995  899995  1.380145 -0.038884  0.597111  0.854560  0.684301 -1.058618   \n",
       "899996  899996 -1.369789  0.044841  0.015458  0.376565 -0.380529 -0.830815   \n",
       "899997  899997  1.386201 -0.961150  0.725994 -0.132844  0.873911 -0.245339   \n",
       "899998  899998 -1.590572 -0.509938 -1.715397 -0.249988  1.359933  1.650808   \n",
       "899999  899999 -0.636210 -0.425986 -1.826699 -0.598797  1.589577 -0.482298   \n",
       "\n",
       "            f_06  f_07  f_08  ...      f_22      f_23      f_24      f_25  \\\n",
       "0       0.113133     1     5  ... -2.540739  0.766952 -2.730628 -0.208177   \n",
       "1       0.447825     1     3  ...  2.278315 -0.633658 -1.217077 -3.782194   \n",
       "2      -0.708660     1     0  ... -1.385775 -0.520558 -0.009121  2.788536   \n",
       "3      -0.282575     3     2  ...  0.572594 -1.653213  1.686035 -2.533098   \n",
       "4       0.407515     3     3  ... -3.912929 -1.430366  2.127649 -3.306784   \n",
       "...          ...   ...   ...  ...       ...       ...       ...       ...   \n",
       "899995  1.310699     2     1  ... -1.594744  0.522019  0.833047  2.714125   \n",
       "899996 -1.798458     4     1  ...  2.413899 -0.674942 -0.412111 -0.030436   \n",
       "899997 -1.045786     0     0  ... -0.151930 -4.560773 -1.249154  1.793535   \n",
       "899998 -0.058592     0     2  ...  2.423670  2.110008  0.561271 -2.149610   \n",
       "899999 -0.214093     7     1  ...  1.340696  3.762351  1.797137 -0.412837   \n",
       "\n",
       "            f_26        f_27        f_28  f_29  f_30  target  \n",
       "0       1.363402  ABABDADBAB   67.609153     0     0       0  \n",
       "1      -0.058316  ACACCADCEB  377.096415     0     0       1  \n",
       "2      -3.703488  AAAEABCKAD -195.599702     0     2       1  \n",
       "3      -0.608601  BDBBAACBCB  210.826205     0     0       1  \n",
       "4       4.371371  BDBCBBCHFE -217.211798     0     1       1  \n",
       "...          ...         ...         ...   ...   ...     ...  \n",
       "899995  1.290094  BABBCBBBED  455.033851     0     2       1  \n",
       "899996 -3.144047  BBBGBBDQBE  134.703577     0     1       0  \n",
       "899997  2.253696  AEBEDBBHBA  -99.536313     0     1       0  \n",
       "899998  1.019982  ADBAAADDAE   47.823039     1     2       0  \n",
       "899999  2.090440  BCAACADSCE  -44.559296     0     2       1  \n",
       "\n",
       "[900000 rows x 33 columns]"
      ]
     },
     "execution_count": 15,
     "metadata": {},
     "output_type": "execute_result"
    }
   ],
   "source": [
    "df_train"
   ]
  },
  {
   "cell_type": "code",
   "execution_count": 8,
   "metadata": {},
   "outputs": [],
   "source": [
    "num_cols = [ 'f_07', 'f_08', 'f_09', 'f_10', 'f_11', 'f_12', 'f_13', 'f_14', 'f_15', 'f_16',\n",
    "       'f_17', 'f_18','f_29', 'f_30']"
   ]
  },
  {
   "cell_type": "code",
   "execution_count": 9,
   "metadata": {},
   "outputs": [],
   "source": [
    "p01 = df_train[num_cols].quantile(0.01)\n",
    "p99 = df_train[num_cols].quantile(0.99)"
   ]
  },
  {
   "cell_type": "code",
   "execution_count": 10,
   "metadata": {},
   "outputs": [],
   "source": [
    "df_train[num_cols] = df_train[num_cols].clip(p01,p99,axis = 1)"
   ]
  },
  {
   "cell_type": "code",
   "execution_count": 11,
   "metadata": {},
   "outputs": [],
   "source": [
    "from sklearn.preprocessing import QuantileTransformer"
   ]
  },
  {
   "cell_type": "code",
   "execution_count": 12,
   "metadata": {},
   "outputs": [
    {
     "data": {
      "text/plain": [
       "QuantileTransformer(copy=True, ignore_implicit_zeros=False, n_quantiles=100,\n",
       "                    output_distribution='normal', random_state=0,\n",
       "                    subsample=100000)"
      ]
     },
     "execution_count": 12,
     "metadata": {},
     "output_type": "execute_result"
    }
   ],
   "source": [
    "transformer = QuantileTransformer(n_quantiles=100, random_state=0, output_distribution='normal')\n",
    "transformer.fit(df_train[num_cols])"
   ]
  },
  {
   "cell_type": "code",
   "execution_count": 14,
   "metadata": {},
   "outputs": [],
   "source": [
    "df_train[num_cols] = transformer.transform(df_train[num_cols])"
   ]
  },
  {
   "cell_type": "code",
   "execution_count": null,
   "metadata": {},
   "outputs": [],
   "source": []
  },
  {
   "cell_type": "code",
   "execution_count": null,
   "metadata": {},
   "outputs": [],
   "source": []
  },
  {
   "cell_type": "code",
   "execution_count": null,
   "metadata": {},
   "outputs": [],
   "source": []
  },
  {
   "cell_type": "code",
   "execution_count": 74,
   "metadata": {},
   "outputs": [
    {
     "name": "stdout",
     "output_type": "stream",
     "text": [
      "<class 'pandas.core.frame.DataFrame'>\n",
      "RangeIndex: 900000 entries, 0 to 899999\n",
      "Data columns (total 34 columns):\n",
      " #   Column  Non-Null Count   Dtype  \n",
      "---  ------  --------------   -----  \n",
      " 0   id      900000 non-null  int64  \n",
      " 1   f_00    900000 non-null  float64\n",
      " 2   f_01    900000 non-null  float64\n",
      " 3   f_02    900000 non-null  float64\n",
      " 4   f_03    900000 non-null  float64\n",
      " 5   f_04    900000 non-null  float64\n",
      " 6   f_05    900000 non-null  float64\n",
      " 7   f_06    900000 non-null  float64\n",
      " 8   f_07    900000 non-null  int64  \n",
      " 9   f_08    900000 non-null  int64  \n",
      " 10  f_09    900000 non-null  int64  \n",
      " 11  f_10    900000 non-null  int64  \n",
      " 12  f_11    900000 non-null  int64  \n",
      " 13  f_12    900000 non-null  int64  \n",
      " 14  f_13    900000 non-null  int64  \n",
      " 15  f_14    900000 non-null  int64  \n",
      " 16  f_15    900000 non-null  int64  \n",
      " 17  f_16    900000 non-null  int64  \n",
      " 18  f_17    900000 non-null  int64  \n",
      " 19  f_18    900000 non-null  int64  \n",
      " 20  f_19    900000 non-null  float64\n",
      " 21  f_20    900000 non-null  float64\n",
      " 22  f_21    900000 non-null  float64\n",
      " 23  f_22    900000 non-null  float64\n",
      " 24  f_23    900000 non-null  float64\n",
      " 25  f_24    900000 non-null  float64\n",
      " 26  f_25    900000 non-null  float64\n",
      " 27  f_26    900000 non-null  float64\n",
      " 28  f_28    900000 non-null  float64\n",
      " 29  f_29    900000 non-null  int64  \n",
      " 30  target  900000 non-null  int64  \n",
      " 31  f_30_0  900000 non-null  uint8  \n",
      " 32  f_30_1  900000 non-null  uint8  \n",
      " 33  f_30_2  900000 non-null  uint8  \n",
      "dtypes: float64(16), int64(15), uint8(3)\n",
      "memory usage: 215.4 MB\n"
     ]
    }
   ],
   "source": [
    "df_train.info()"
   ]
  },
  {
   "cell_type": "code",
   "execution_count": null,
   "metadata": {},
   "outputs": [],
   "source": []
  },
  {
   "cell_type": "code",
   "execution_count": 16,
   "metadata": {},
   "outputs": [],
   "source": [
    "y = df_train['target']\n",
    "X = df_train.drop(['target','id'],axis = 1)"
   ]
  },
  {
   "cell_type": "code",
   "execution_count": 17,
   "metadata": {},
   "outputs": [],
   "source": [
    "from sklearn.model_selection import train_test_split"
   ]
  },
  {
   "cell_type": "code",
   "execution_count": 18,
   "metadata": {},
   "outputs": [],
   "source": [
    "from random import shuffle\n",
    "\n",
    "\n",
    "X_train, X_val, y_train, y_val = train_test_split(X,y,test_size = 0.2,shuffle = True, random_state = 42)"
   ]
  },
  {
   "cell_type": "code",
   "execution_count": 19,
   "metadata": {},
   "outputs": [],
   "source": [
    "df_test = pd.read_csv('test.csv')"
   ]
  },
  {
   "cell_type": "code",
   "execution_count": 21,
   "metadata": {},
   "outputs": [],
   "source": [
    "id = df_test.id"
   ]
  },
  {
   "cell_type": "code",
   "execution_count": 22,
   "metadata": {},
   "outputs": [],
   "source": [
    "df_test.drop(['f_27'],inplace=True,axis=1)"
   ]
  },
  {
   "cell_type": "code",
   "execution_count": 23,
   "metadata": {},
   "outputs": [],
   "source": [
    "df_test = pd.get_dummies(df_test,columns=['f_30'])"
   ]
  },
  {
   "cell_type": "code",
   "execution_count": 24,
   "metadata": {},
   "outputs": [],
   "source": [
    "X_test = df_test.drop(['id'],axis = 1)"
   ]
  },
  {
   "cell_type": "code",
   "execution_count": 26,
   "metadata": {},
   "outputs": [],
   "source": [
    "y_proba = rf.predict_proba(X_test)[:,1]\n",
    "df_submiss = pd.DataFrame({'id':id,'target':y_proba})\n",
    "df_submiss.to_csv('submission.csv',index = False)"
   ]
  },
  {
   "cell_type": "code",
   "execution_count": 30,
   "metadata": {},
   "outputs": [],
   "source": [
    "df_submiss_sample = pd.read_csv('sample_submission.csv')"
   ]
  },
  {
   "cell_type": "code",
   "execution_count": 100,
   "metadata": {},
   "outputs": [],
   "source": [
    "X = df_train.drop(['target','id'],axis = 1)\n",
    "y = df_train['target']"
   ]
  },
  {
   "cell_type": "code",
   "execution_count": 101,
   "metadata": {},
   "outputs": [],
   "source": [
    "from sklearn.model_selection import train_test_split"
   ]
  },
  {
   "cell_type": "code",
   "execution_count": 102,
   "metadata": {},
   "outputs": [],
   "source": [
    "X_train, X_val, y_train, y_val = train_test_split(X,y,test_size = 0.2, random_state = 42)"
   ]
  },
  {
   "cell_type": "code",
   "execution_count": 22,
   "metadata": {},
   "outputs": [],
   "source": [
    "from xgboost import XGBClassifier"
   ]
  },
  {
   "cell_type": "code",
   "execution_count": 23,
   "metadata": {},
   "outputs": [],
   "source": [
    "xgb = XGBClassifier()"
   ]
  },
  {
   "cell_type": "code",
   "execution_count": 24,
   "metadata": {},
   "outputs": [
    {
     "data": {
      "text/plain": [
       "XGBClassifier(base_score=0.5, booster='gbtree', callbacks=None,\n",
       "              colsample_bylevel=1, colsample_bynode=1, colsample_bytree=1,\n",
       "              early_stopping_rounds=None, enable_categorical=False,\n",
       "              eval_metric=None, gamma=0, gpu_id=-1, grow_policy='depthwise',\n",
       "              importance_type=None, interaction_constraints='',\n",
       "              learning_rate=0.300000012, max_bin=256, max_cat_to_onehot=4,\n",
       "              max_delta_step=0, max_depth=6, max_leaves=0, min_child_weight=1,\n",
       "              missing=nan, monotone_constraints='()', n_estimators=100,\n",
       "              n_jobs=0, num_parallel_tree=1, objective='binary:logistic',\n",
       "              predictor='auto', random_state=0, reg_alpha=0, ...)"
      ]
     },
     "execution_count": 24,
     "metadata": {},
     "output_type": "execute_result"
    }
   ],
   "source": [
    "xgb.fit(X_train,y_train)"
   ]
  },
  {
   "cell_type": "code",
   "execution_count": 25,
   "metadata": {},
   "outputs": [],
   "source": [
    "y_pred = xgb.predict(X_val)"
   ]
  },
  {
   "cell_type": "code",
   "execution_count": 93,
   "metadata": {},
   "outputs": [
    {
     "data": {
      "text/plain": [
       "(180000,)"
      ]
     },
     "execution_count": 93,
     "metadata": {},
     "output_type": "execute_result"
    }
   ],
   "source": []
  },
  {
   "cell_type": "code",
   "execution_count": 26,
   "metadata": {},
   "outputs": [
    {
     "name": "stdout",
     "output_type": "stream",
     "text": [
      "Accuracy: 0.8486222222222222\n",
      "Precision: 0.8502492360247725\n",
      "Recall: 0.8359513337522134\n"
     ]
    }
   ],
   "source": [
    "from sklearn.metrics import accuracy_score,precision_score,recall_score,roc_auc_score\n",
    "print(\"Accuracy:\",accuracy_score(y_val,y_pred))\n",
    "print(\"Precision:\",precision_score(y_val,y_pred))\n",
    "print(\"Recall:\",recall_score(y_val,y_pred))"
   ]
  },
  {
   "cell_type": "code",
   "execution_count": 104,
   "metadata": {},
   "outputs": [
    {
     "data": {
      "text/plain": [
       "XGBClassifier(base_score=0.5, booster='gbtree', callbacks=None,\n",
       "              colsample_bylevel=1, colsample_bynode=1, colsample_bytree=1,\n",
       "              early_stopping_rounds=None, enable_categorical=False,\n",
       "              eval_metric=None, gamma=0, gpu_id=-1, grow_policy='depthwise',\n",
       "              importance_type=None, interaction_constraints='',\n",
       "              learning_rate=0.300000012, max_bin=256, max_cat_to_onehot=4,\n",
       "              max_delta_step=0, max_depth=6, max_leaves=0, min_child_weight=1,\n",
       "              missing=nan, monotone_constraints='()', n_estimators=100,\n",
       "              n_jobs=0, num_parallel_tree=1, objective='binary:logistic',\n",
       "              predictor='auto', random_state=0, reg_alpha=0, ...)"
      ]
     },
     "execution_count": 104,
     "metadata": {},
     "output_type": "execute_result"
    }
   ],
   "source": [
    "xgb = XGBClassifier()\n",
    "xgb.fit(X,y)"
   ]
  },
  {
   "cell_type": "code",
   "execution_count": 105,
   "metadata": {},
   "outputs": [],
   "source": [
    "y_proba = xgb.predict_proba(X_test)[:,1]\n",
    "df_submiss = pd.DataFrame({'id':id,'target':y_proba})\n",
    "df_submiss.to_csv('submission.csv',index = False)"
   ]
  },
  {
   "cell_type": "code",
   "execution_count": null,
   "metadata": {},
   "outputs": [],
   "source": []
  }
 ],
 "metadata": {
  "kernelspec": {
   "display_name": "Python 3.7.6 ('base')",
   "language": "python",
   "name": "python3"
  },
  "language_info": {
   "codemirror_mode": {
    "name": "ipython",
    "version": 3
   },
   "file_extension": ".py",
   "mimetype": "text/x-python",
   "name": "python",
   "nbconvert_exporter": "python",
   "pygments_lexer": "ipython3",
   "version": "3.7.6"
  },
  "orig_nbformat": 4,
  "vscode": {
   "interpreter": {
    "hash": "99aa5aab342e5d43ef94cfb81bdd4936f1fcb5d605904c7a58af2f252555db64"
   }
  }
 },
 "nbformat": 4,
 "nbformat_minor": 2
}
